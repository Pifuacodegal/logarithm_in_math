{
 "cells": [
  {
   "cell_type": "code",
   "execution_count": 1,
   "metadata": {},
   "outputs": [],
   "source": [
    "import math"
   ]
  },
  {
   "cell_type": "code",
   "execution_count": 3,
   "metadata": {},
   "outputs": [
    {
     "name": "stdout",
     "output_type": "stream",
     "text": [
      "Logarithm base 2 of 16\n",
      "4.0\n"
     ]
    }
   ],
   "source": [
    "# Python code to demonstrate the working of log2(a)\n",
    "# In this code we display the power property\n",
    "# Printing the log base 2 of 16\n",
    "print(\"Logarithm base 2 of 16\")\n",
    "print(math.log2(16))"
   ]
  },
  {
   "cell_type": "code",
   "execution_count": 4,
   "metadata": {},
   "outputs": [
    {
     "name": "stdout",
     "output_type": "stream",
     "text": [
      "Logarithm base 2 of 6\n",
      "2.584962500721156\n"
     ]
    }
   ],
   "source": [
    "# Python code to demonstrate the working of log2(a)\n",
    "# log2(a)\n",
    "# In this code we display the product  property\n",
    "# Printing the log base 2 of 16\n",
    "import math\n",
    "print(\"Logarithm base 2 of 6\")\n",
    "\n",
    "print(math.log2(6))"
   ]
  },
  {
   "cell_type": "code",
   "execution_count": 5,
   "metadata": {},
   "outputs": [
    {
     "name": "stdout",
     "output_type": "stream",
     "text": [
      "Logarithm base 10 of 14\n",
      "1.146128035678238\n"
     ]
    }
   ],
   "source": [
    "#Python code to demonstrate the working of log10(a)\n",
    "#In this code we display the quotient rule\n",
    "# Printing the log base 10 of 14\n",
    "import math\n",
    "print(\"Logarithm base 10 of 14\")\n",
    "print(math.log10(14))"
   ]
  },
  {
   "cell_type": "code",
   "execution_count": 4,
   "metadata": {},
   "outputs": [],
   "source": [
    "from math import log2"
   ]
  },
  {
   "cell_type": "code",
   "execution_count": 6,
   "metadata": {},
   "outputs": [
    {
     "name": "stdout",
     "output_type": "stream",
     "text": [
      "The number of digits in 73293 are:5\n"
     ]
    }
   ],
   "source": [
    "# log10(a)\n",
    "# printing number of digits in 73293\n",
    "import math\n",
    "print(\"The number of digits in 73293 are:\", end=\"\")\n",
    "print(int(math.log10(73293) + 1))"
   ]
  },
  {
   "cell_type": "code",
   "execution_count": 9,
   "metadata": {},
   "outputs": [
    {
     "name": "stdout",
     "output_type": "stream",
     "text": [
      "(0.34657359027997264+0.7853981633974483j)\n",
      "0j\n"
     ]
    }
   ],
   "source": [
    "#Import cmath libary\n",
    "import cmath\n",
    "#cmath finds the log of a complex value\n",
    "#print log value of some given parameters\n",
    "print(cmath.log(1+1j))\n",
    "print(cmath.log(1,2.5))"
   ]
  },
  {
   "cell_type": "code",
   "execution_count": 10,
   "metadata": {},
   "outputs": [
    {
     "name": "stdout",
     "output_type": "stream",
     "text": [
      "[1.         1.5849625  2.         2.32192809 2.5849625  2.80735492]\n"
     ]
    }
   ],
   "source": [
    "import numpy as np\n",
    "array = np.arange(2,8)\n",
    "# we are looking for the of the range between 2 and 8\n",
    "print(np.log2(array))"
   ]
  },
  {
   "cell_type": "code",
   "execution_count": 18,
   "metadata": {},
   "outputs": [
    {
     "name": "stdout",
     "output_type": "stream",
     "text": [
      "Logarithm(1+a) value of 9 is :2.302585092994046\n"
     ]
    }
   ],
   "source": [
    "#Python code to demonstrate the working of log1p(a)\n",
    "#log1p() returns log(1 + number),\n",
    "#printing the log(1+a) of 9\n",
    "import math\n",
    "print(\"Logarithm(1+a) value of 9 is :\", end=\"\")\n",
    "print(math.log1p(9))"
   ]
  }
 ],
 "metadata": {
  "kernelspec": {
   "display_name": "Python 3",
   "language": "python",
   "name": "python3"
  },
  "language_info": {
   "codemirror_mode": {
    "name": "ipython",
    "version": 3
   },
   "file_extension": ".py",
   "mimetype": "text/x-python",
   "name": "python",
   "nbconvert_exporter": "python",
   "pygments_lexer": "ipython3",
   "version": "3.11.6"
  }
 },
 "nbformat": 4,
 "nbformat_minor": 2
}
